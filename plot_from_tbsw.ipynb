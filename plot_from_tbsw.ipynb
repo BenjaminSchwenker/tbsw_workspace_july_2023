{
 "cells": [
  {
   "cell_type": "markdown",
   "id": "48db72e1",
   "metadata": {},
   "source": [
    "# Angular scan for DUT W5R18"
   ]
  },
  {
   "cell_type": "code",
   "execution_count": null,
   "id": "90cb4329",
   "metadata": {
    "scrolled": true
   },
   "outputs": [],
   "source": [
    "import extract_tbsw_root\n",
    "import pandas as pd\n",
    "import matplotlib.pyplot as plt\n"
   ]
  },
  {
   "cell_type": "code",
   "execution_count": null,
   "id": "c9adcfd6",
   "metadata": {},
   "outputs": [],
   "source": [
    "selected_keys_tbsw = {\n",
    "\"hres_u_all\":'RMS',\n",
    "\"hfit_sigma_u\":'Mean',\n",
    "\"hres_v_all\":'RMS',\n",
    "\"hfit_sigma_v\":'Mean',\n",
    "\"hCharge\":'Mean',\n",
    "\"hCCharge\":'Mean',\n",
    "\"hsize\":'Mean',\n",
    "\"hsizeU\":'Mean',\n",
    "\"hsizeV\":'Mean',\n",
    "\"h2_efficiencymap\":'Efficiency',\n",
    "\"g_efficiency_roi\": 'ROI Efficiency'\n",
    "}\n",
    "\n",
    "y_labels_tbsw = {\n",
    "\"hres_u_all\":'RMS u residuals columns / microns',\n",
    "\"hfit_sigma_u\":'Mean telescope pointing sigma_u @DUT / microns',\n",
    "\"hres_v_all\":'RMS v residuals columns / microns',\n",
    "\"hfit_sigma_v\":'Mean telescope pointing sigma_v @DUT / microns',\n",
    "\"hCharge\":'Mean seed ToT / LSB',\n",
    "\"hCCharge\":'Mean cluster charge / LSB',\n",
    "\"hsize\":'Mean pixels per cluster / pixels',\n",
    "\"hsizeU\":'Mean columns per cluster / columns',\n",
    "\"hsizeV\":'Mean row per cluster / rows',\n",
    "\"h2_efficiencymap\":'Efficiency',\n",
    "\"g_efficiency_roi\": 'ROI Efficiency'\n",
    "}"
   ]
  },
  {
   "cell_type": "code",
   "execution_count": null,
   "id": "17c8cc2c",
   "metadata": {},
   "outputs": [],
   "source": [
    "path_to_analysis = '/home/bgnet/tbsw_workspace_july_2023/'\n",
    "\n",
    "#hv bias W05R16\n",
    "#x_axis = [2,3,4,5,6,7,8,9,10,11,12,13,14,15,16,17,18,19,20,21,22,23,24,25,26,27,28,29,30,31,32]\n",
    "#hv bias W02R05\n",
    "x_axis = [1,2,4,6,8,10,12,14,16,18]\n",
    "#angular steps\n",
    "#x_axis = [15,30,35,40,45,50,55,60]\n",
    "#vclip\n",
    "#x_axis = [30,40,50,60,70,80,90,100,110,120,130,140] \n",
    "#ibias\n",
    "#x_axis = [60,80,100]\n",
    "#bcid\n",
    "#x_axis = [10,20,21.7]\n",
    "\n",
    "\n",
    "x_axis_name = 'HV Bias [V]'\n",
    "#x_axis_name = 'ITHR [DAC Units]'\n",
    "#x_axis_name = 'beta [degree]'\n",
    "#x_axis_name = 'VCLIP [DAC]'\n",
    "#x_axis_name = 'IBIAS [DAC]'\n",
    "#x_axis_name = 'BCID Freq [MHz]'\n"
   ]
  },
  {
   "cell_type": "code",
   "execution_count": null,
   "id": "da430462",
   "metadata": {},
   "outputs": [],
   "source": [
    "\n",
    "#hv bias W02R05 NEW\n",
    "#runs = [686,685,684,683,682,681,680,679,678,677]\n",
    "#angular W02R05 NF NEW\n",
    "#runs = [716,715,708,707,700,698,694,691]\n",
    "#angular W02R05 NFCasc NEW\n",
    "#runs = [717,713,710,705,702,697,693,692]\n",
    "#angular W02R05 HV NEW\n",
    "#runs = [718,712,711,704,703,696,695,690]\n",
    "#vclip W02R05\n",
    "#runs = [744,745,746,747,748,749,750,751,752,753,754,755]\n",
    "#IBIAS W02R05\n",
    "#runs = [758,756,757]\n",
    "\n",
    "#angular W05R16 NF NEW\n",
    "#runs = [820,818,812,811,804,801,795,794]\n",
    "#angular W05R16 NFCasc NEW\n",
    "#runs = [822,816,813,810,806,800,796,792]\n",
    "#angular W05R16 HV NEW\n",
    "#runs = [823,815,814,809,807,798,797,791]\n",
    "#hv bias W05R16\n",
    "#runs = [826,827,828,829,830,831,832,833,834,835,836,837,838,839,840,841,842,843,844,845,846,847,848,849,850,851,852,853,854,855,856]\n",
    "\n",
    "#roi\n",
    "#roi = [482,492,2,510] #hv\n",
    "roi =  [450,470,2,510] #hv casc \n",
    "#roi =  [105,220,2,510] #nf\n",
    "#roi =  [305,440,2,510] #nf casc\n",
    "\n",
    "df = extract_tbsw_root.get_object(path_to_analysis,\n",
    "                                  runs,\n",
    "                                  roi=roi\n",
    "                                 )\n"
   ]
  },
  {
   "cell_type": "code",
   "execution_count": null,
   "id": "a0f1c3f2",
   "metadata": {
    "scrolled": false
   },
   "outputs": [],
   "source": [
    "for column in df.columns:\n",
    "    \n",
    "    if column == \"h2_efficiencymap\": \n",
    "        continue\n",
    "    ratio_plot, ax_ratio = plt.subplots(figsize=(16, 9))\n",
    "\n",
    "    ax_ratio.plot(x_axis, df[column],\n",
    "                  label=selected_keys_tbsw[column]+' '+column, c='b', marker='x',\n",
    "                  markersize=10, linestyle=\"-\")\n",
    "\n",
    "    ax_ratio.set_xlabel(x_axis_name, fontsize=25)\n",
    "    ax_ratio.set_ylabel(y_labels_tbsw[column], fontsize=25)\n",
    "    #ax_ratio.set_ylim([0, 0.03])\n",
    "\n",
    "    ax_ratio.tick_params(axis='both', which='major', labelsize=22)\n",
    "    ax_ratio.tick_params(axis='both', which='minor', labelsize=20)\n",
    "\n",
    "    ax_ratio.legend(prop={\"size\": 24}, loc='upper right', framealpha=1, markerscale=2, bbox_to_anchor=[1,0.9])\n",
    "    ratio_plot.tight_layout()\n",
    "    ratio_plot.savefig(\"W02R05_hvbias_HVCasc_FE_{}.pdf\".format(column),bbox_inches=\"tight\")"
   ]
  },
  {
   "cell_type": "code",
   "execution_count": null,
   "id": "04e0f237",
   "metadata": {},
   "outputs": [],
   "source": []
  },
  {
   "cell_type": "code",
   "execution_count": null,
   "id": "bd7154d8",
   "metadata": {},
   "outputs": [],
   "source": []
  },
  {
   "cell_type": "code",
   "execution_count": null,
   "id": "6766ad70",
   "metadata": {},
   "outputs": [],
   "source": []
  },
  {
   "cell_type": "code",
   "execution_count": null,
   "id": "7cbdd6cf",
   "metadata": {},
   "outputs": [],
   "source": []
  },
  {
   "cell_type": "code",
   "execution_count": null,
   "id": "7d0e5cda",
   "metadata": {},
   "outputs": [],
   "source": [
    "# Runno  ROI_EFFICIENCY\n",
    "df[\"g_efficiency_roi\"]"
   ]
  },
  {
   "cell_type": "code",
   "execution_count": null,
   "id": "14412f2d",
   "metadata": {},
   "outputs": [],
   "source": []
  },
  {
   "cell_type": "code",
   "execution_count": null,
   "id": "6ddadec3",
   "metadata": {},
   "outputs": [],
   "source": []
  },
  {
   "cell_type": "code",
   "execution_count": null,
   "id": "b8913fd7",
   "metadata": {},
   "outputs": [],
   "source": []
  }
 ],
 "metadata": {
  "kernelspec": {
   "display_name": "Python 3 (ipykernel)",
   "language": "python",
   "name": "python3"
  },
  "language_info": {
   "codemirror_mode": {
    "name": "ipython",
    "version": 3
   },
   "file_extension": ".py",
   "mimetype": "text/x-python",
   "name": "python",
   "nbconvert_exporter": "python",
   "pygments_lexer": "ipython3",
   "version": "3.9.12"
  }
 },
 "nbformat": 4,
 "nbformat_minor": 5
}
